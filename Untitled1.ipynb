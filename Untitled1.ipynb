{
 "cells": [
  {
   "cell_type": "code",
   "execution_count": 7,
   "metadata": {
    "collapsed": false
   },
   "outputs": [
    {
     "name": "stdout",
     "output_type": "stream",
     "text": [
      "Red:  6716\n"
     ]
    }
   ],
   "source": [
    "import random\n",
    "\n",
    "red_count = 0 \n",
    "for i in range(10000):\n",
    "    if random.random() < 2/3:\n",
    "        red_count += 1\n",
    "print(\"Red: \", red_count)        "
   ]
  },
  {
   "cell_type": "code",
   "execution_count": 9,
   "metadata": {
    "collapsed": false
   },
   "outputs": [
    {
     "name": "stdout",
     "output_type": "stream",
     "text": [
      "Blue:  3358\n"
     ]
    }
   ],
   "source": [
    "import random\n",
    "\n",
    "blue_count = 0 \n",
    "for i in range(10000):\n",
    "    if random.random() < 1/3:\n",
    "        blue_count += 1\n",
    "print(\"Blue: \", blue_count)        "
   ]
  },
  {
   "cell_type": "code",
   "execution_count": null,
   "metadata": {
    "collapsed": true
   },
   "outputs": [],
   "source": []
  }
 ],
 "metadata": {
  "kernelspec": {
   "display_name": "Python 3",
   "language": "python",
   "name": "python3"
  },
  "language_info": {
   "codemirror_mode": {
    "name": "ipython",
    "version": 3
   },
   "file_extension": ".py",
   "mimetype": "text/x-python",
   "name": "python",
   "nbconvert_exporter": "python",
   "pygments_lexer": "ipython3",
   "version": "3.5.1"
  }
 },
 "nbformat": 4,
 "nbformat_minor": 0
}
